{
 "cells": [
  {
   "cell_type": "markdown",
   "metadata": {},
   "source": [
    "# Managing Large Data Files in Bioinformatics Projects\n"
   ]
  },
  {
   "cell_type": "markdown",
   "metadata": {},
   "source": [
    "## The Challenge: Large Data Files in Version Control\n",
    "\n",
    "GitHub has strict file size limitations:\n",
    "- Individual files must be under 100MB\n",
    "- Repositories have a strict size limit of 100GB\n",
    "- Recommended repository size is under 5GB for optimal performance\n",
    "\n",
    "In bioinformatics, we frequently work with large data files such as:\n",
    "- FASTQ sequencing files (often multiple GB each)\n",
    "- BAM/SAM alignment files\n",
    "- Reference genomes\n",
    "\n",
    "Attempting to commit these files directly to Git will likely result in errors.<br> \n",
    "<br>\n",
    "Even commiting large files to you local repository before pushing to Git can create a large headache. I personally found this out by making multiple commits with the GRCh38 in one of my files."
   ]
  },
  {
   "cell_type": "markdown",
   "metadata": {},
   "source": [
    "## Your options\n",
    "\n",
    "1. Delete large files before you commit\n",
    "    - example: keeping all large files in a `tmp` folder and then clearing it before you commit\n",
    "<br> or <br>\n",
    "2. Completely ignore certain types of files from being commited\n",
    "    - example: using a config file like `.gitignore` to prevent certain files or folders from being commited"
   ]
  },
  {
   "cell_type": "markdown",
   "metadata": {},
   "source": [
    "## My Solution: gitignore\n",
    "\n",
    "I create a `.gitignore` file to simply ignore the large files (like fastq files) form being commited and pushed to Git. <br>\n",
    "<br>\n",
    "I find writing in a segment of code to clear my `tmp` folder or manually deleting files makes me prone to error. Creating a `.gitignore` when setting up my project allows me to make adjustments as I need but I also don't have to go back and clean old commits if I forgot to run a Jupyter cell or delete a file that accidentally got placed in a forgotten folder.\n"
   ]
  },
  {
   "cell_type": "markdown",
   "metadata": {},
   "source": [
    "## Setting Up a .gitignore\n",
    "\n",
    "The `.gitignore` file tells Git which files to ignore. \n",
    "\n",
    "Here's an example `.gitignore` file for a typical bioinformatics project:\n"
   ]
  },
  {
   "cell_type": "raw",
   "metadata": {
    "vscode": {
     "languageId": "raw"
    }
   },
   "source": [
    "# Temporary files\n",
    "*.tmp\n",
    "*~\n",
    ".DS_Store\n",
    "\n",
    "# Large Data files\n",
    "*.fastq\n",
    "*.bam\n",
    "*.vcf\n",
    "*.bed\n",
    "\n",
    "# Python-specific\n",
    "__pycache__/\n",
    "*.py[cod]\n",
    "*$py.class\n",
    "*.so\n",
    ".Python\n",
    "env/\n",
    "build/\n",
    "develop-eggs/\n",
    "dist/\n",
    "downloads/\n",
    "eggs/\n",
    ".eggs/\n",
    "lib/\n",
    "lib64/\n",
    "parts/\n",
    "sdist/\n",
    "var/\n",
    "*.egg-info/\n",
    ".installed.cfg\n",
    "*.egg\n",
    "\n",
    "# Jupyter Notebook\n",
    ".ipynb_checkpoints\n",
    "\n",
    "# R-specific\n",
    ".Rhistory\n",
    ".Rapp.history\n",
    ".RData\n",
    ".Ruserdata"
   ]
  },
  {
   "cell_type": "markdown",
   "metadata": {},
   "source": [
    "# But I already have large files commited and have an error\n",
    "If you are someone whom accidentally commited a large file or too many large files over multiple commits, like me, and now you're getting an error, check out [BFG repo cleaner](https://rtyley.github.io/bfg-repo-cleaner/)"
   ]
  }
 ],
 "metadata": {
  "kernelspec": {
   "display_name": "base",
   "language": "python",
   "name": "python3"
  },
  "language_info": {
   "codemirror_mode": {
    "name": "ipython",
    "version": 3
   },
   "file_extension": ".py",
   "mimetype": "text/x-python",
   "name": "python",
   "nbconvert_exporter": "python",
   "pygments_lexer": "ipython3",
   "version": "3.12.2"
  }
 },
 "nbformat": 4,
 "nbformat_minor": 2
}
